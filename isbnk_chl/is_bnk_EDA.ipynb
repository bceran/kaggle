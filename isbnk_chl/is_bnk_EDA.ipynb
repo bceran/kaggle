{
 "cells": [
  {
   "cell_type": "code",
   "execution_count": 1,
   "id": "3e6be18e-53b3-4869-8b9b-5676dedef0ce",
   "metadata": {},
   "outputs": [],
   "source": [
    "import numpy as np\n",
    "import pandas as pd\n",
    "import matplotlib.pyplot as plt\n",
    "import seaborn as sns"
   ]
  },
  {
   "cell_type": "code",
   "execution_count": 2,
   "id": "03209cac-636e-46d4-9a8b-69205a4da2a5",
   "metadata": {},
   "outputs": [],
   "source": [
    "df = pd.read_csv('train.csv')\n",
    "mon_df = pd.read_csv('monthly_expenditures.csv')"
   ]
  },
  {
   "cell_type": "code",
   "execution_count": 3,
   "id": "7edae3f5-b53b-4a9a-ab29-e780bd19317e",
   "metadata": {},
   "outputs": [
    {
     "data": {
      "text/html": [
       "<div>\n",
       "<style scoped>\n",
       "    .dataframe tbody tr th:only-of-type {\n",
       "        vertical-align: middle;\n",
       "    }\n",
       "\n",
       "    .dataframe tbody tr th {\n",
       "        vertical-align: top;\n",
       "    }\n",
       "\n",
       "    .dataframe thead th {\n",
       "        text-align: right;\n",
       "    }\n",
       "</style>\n",
       "<table border=\"1\" class=\"dataframe\">\n",
       "  <thead>\n",
       "    <tr style=\"text-align: right;\">\n",
       "      <th></th>\n",
       "      <th>musteri</th>\n",
       "      <th>yas</th>\n",
       "      <th>kidem_suresi</th>\n",
       "      <th>egitim</th>\n",
       "      <th>is_durumu</th>\n",
       "      <th>meslek_grubu</th>\n",
       "      <th>tarih</th>\n",
       "      <th>target</th>\n",
       "    </tr>\n",
       "  </thead>\n",
       "  <tbody>\n",
       "    <tr>\n",
       "      <th>0</th>\n",
       "      <td>23b2476c8a</td>\n",
       "      <td>44.0</td>\n",
       "      <td>46.0</td>\n",
       "      <td>5f8ca0f83b</td>\n",
       "      <td>915be3a7a4</td>\n",
       "      <td>44af6626d6</td>\n",
       "      <td>20190601</td>\n",
       "      <td>0</td>\n",
       "    </tr>\n",
       "    <tr>\n",
       "      <th>1</th>\n",
       "      <td>5a7e3a7122</td>\n",
       "      <td>39.0</td>\n",
       "      <td>194.0</td>\n",
       "      <td>01a4f2c96c</td>\n",
       "      <td>915be3a7a4</td>\n",
       "      <td>44af6626d6</td>\n",
       "      <td>20190601</td>\n",
       "      <td>0</td>\n",
       "    </tr>\n",
       "    <tr>\n",
       "      <th>2</th>\n",
       "      <td>2ec95c7499</td>\n",
       "      <td>38.0</td>\n",
       "      <td>182.0</td>\n",
       "      <td>7e6640bfe0</td>\n",
       "      <td>d36d84f51a</td>\n",
       "      <td>44af6626d6</td>\n",
       "      <td>20190601</td>\n",
       "      <td>0</td>\n",
       "    </tr>\n",
       "    <tr>\n",
       "      <th>3</th>\n",
       "      <td>54399dac33</td>\n",
       "      <td>34.0</td>\n",
       "      <td>101.0</td>\n",
       "      <td>5f8ca0f83b</td>\n",
       "      <td>991c4998fb</td>\n",
       "      <td>44af6626d6</td>\n",
       "      <td>20190601</td>\n",
       "      <td>0</td>\n",
       "    </tr>\n",
       "    <tr>\n",
       "      <th>4</th>\n",
       "      <td>97a74b2e58</td>\n",
       "      <td>41.0</td>\n",
       "      <td>125.0</td>\n",
       "      <td>7bb291e291</td>\n",
       "      <td>242927d0f5</td>\n",
       "      <td>91ed9c1e18</td>\n",
       "      <td>20190601</td>\n",
       "      <td>0</td>\n",
       "    </tr>\n",
       "  </tbody>\n",
       "</table>\n",
       "</div>"
      ],
      "text/plain": [
       "      musteri   yas  kidem_suresi      egitim   is_durumu meslek_grubu  \\\n",
       "0  23b2476c8a  44.0          46.0  5f8ca0f83b  915be3a7a4   44af6626d6   \n",
       "1  5a7e3a7122  39.0         194.0  01a4f2c96c  915be3a7a4   44af6626d6   \n",
       "2  2ec95c7499  38.0         182.0  7e6640bfe0  d36d84f51a   44af6626d6   \n",
       "3  54399dac33  34.0         101.0  5f8ca0f83b  991c4998fb   44af6626d6   \n",
       "4  97a74b2e58  41.0         125.0  7bb291e291  242927d0f5   91ed9c1e18   \n",
       "\n",
       "      tarih  target  \n",
       "0  20190601       0  \n",
       "1  20190601       0  \n",
       "2  20190601       0  \n",
       "3  20190601       0  \n",
       "4  20190601       0  "
      ]
     },
     "execution_count": 3,
     "metadata": {},
     "output_type": "execute_result"
    }
   ],
   "source": [
    "df.head()"
   ]
  },
  {
   "cell_type": "code",
   "execution_count": 4,
   "id": "f175c3ed-650f-4671-b572-68f05ef9458c",
   "metadata": {},
   "outputs": [
    {
     "data": {
      "text/html": [
       "<div>\n",
       "<style scoped>\n",
       "    .dataframe tbody tr th:only-of-type {\n",
       "        vertical-align: middle;\n",
       "    }\n",
       "\n",
       "    .dataframe tbody tr th {\n",
       "        vertical-align: top;\n",
       "    }\n",
       "\n",
       "    .dataframe thead th {\n",
       "        text-align: right;\n",
       "    }\n",
       "</style>\n",
       "<table border=\"1\" class=\"dataframe\">\n",
       "  <thead>\n",
       "    <tr style=\"text-align: right;\">\n",
       "      <th></th>\n",
       "      <th>musteri</th>\n",
       "      <th>sektor</th>\n",
       "      <th>islem_adedi</th>\n",
       "      <th>aylik_toplam_tutar</th>\n",
       "      <th>tarih</th>\n",
       "    </tr>\n",
       "  </thead>\n",
       "  <tbody>\n",
       "    <tr>\n",
       "      <th>0</th>\n",
       "      <td>f6b1f7d2d6</td>\n",
       "      <td>DIJITAL_URUNLR</td>\n",
       "      <td>1</td>\n",
       "      <td>10.0</td>\n",
       "      <td>20190101</td>\n",
       "    </tr>\n",
       "    <tr>\n",
       "      <th>1</th>\n",
       "      <td>f6b1f7d2d6</td>\n",
       "      <td>EGL_SPOR_HOBI</td>\n",
       "      <td>2</td>\n",
       "      <td>520.0</td>\n",
       "      <td>20190101</td>\n",
       "    </tr>\n",
       "    <tr>\n",
       "      <th>2</th>\n",
       "      <td>f6b1f7d2d6</td>\n",
       "      <td>GIYIM_AKSESUAR</td>\n",
       "      <td>4</td>\n",
       "      <td>1420.0</td>\n",
       "      <td>20190101</td>\n",
       "    </tr>\n",
       "    <tr>\n",
       "      <th>3</th>\n",
       "      <td>f6b1f7d2d6</td>\n",
       "      <td>KUYUMCU</td>\n",
       "      <td>1</td>\n",
       "      <td>550.0</td>\n",
       "      <td>20190101</td>\n",
       "    </tr>\n",
       "    <tr>\n",
       "      <th>4</th>\n",
       "      <td>f6b1f7d2d6</td>\n",
       "      <td>RESTORAN_CATER</td>\n",
       "      <td>1</td>\n",
       "      <td>90.0</td>\n",
       "      <td>20190101</td>\n",
       "    </tr>\n",
       "  </tbody>\n",
       "</table>\n",
       "</div>"
      ],
      "text/plain": [
       "      musteri          sektor  islem_adedi  aylik_toplam_tutar     tarih\n",
       "0  f6b1f7d2d6  DIJITAL_URUNLR            1                10.0  20190101\n",
       "1  f6b1f7d2d6   EGL_SPOR_HOBI            2               520.0  20190101\n",
       "2  f6b1f7d2d6  GIYIM_AKSESUAR            4              1420.0  20190101\n",
       "3  f6b1f7d2d6         KUYUMCU            1               550.0  20190101\n",
       "4  f6b1f7d2d6  RESTORAN_CATER            1                90.0  20190101"
      ]
     },
     "execution_count": 4,
     "metadata": {},
     "output_type": "execute_result"
    }
   ],
   "source": [
    "mon_df.head()"
   ]
  },
  {
   "cell_type": "code",
   "execution_count": 5,
   "id": "24d8000a-4e09-4d2a-8703-6b88113471ce",
   "metadata": {},
   "outputs": [
    {
     "name": "stdout",
     "output_type": "stream",
     "text": [
      "<class 'pandas.core.frame.DataFrame'>\n",
      "RangeIndex: 60000 entries, 0 to 59999\n",
      "Data columns (total 8 columns):\n",
      " #   Column        Non-Null Count  Dtype  \n",
      "---  ------        --------------  -----  \n",
      " 0   musteri       60000 non-null  object \n",
      " 1   yas           60000 non-null  float64\n",
      " 2   kidem_suresi  60000 non-null  float64\n",
      " 3   egitim        59697 non-null  object \n",
      " 4   is_durumu     59929 non-null  object \n",
      " 5   meslek_grubu  38670 non-null  object \n",
      " 6   tarih         60000 non-null  int64  \n",
      " 7   target        60000 non-null  int64  \n",
      "dtypes: float64(2), int64(2), object(4)\n",
      "memory usage: 3.7+ MB\n"
     ]
    }
   ],
   "source": [
    "df.info()"
   ]
  },
  {
   "cell_type": "code",
   "execution_count": 6,
   "id": "e13e524a-8516-481b-93ec-8f40a903939c",
   "metadata": {},
   "outputs": [
    {
     "name": "stdout",
     "output_type": "stream",
     "text": [
      "<class 'pandas.core.frame.DataFrame'>\n",
      "RangeIndex: 932144 entries, 0 to 932143\n",
      "Data columns (total 5 columns):\n",
      " #   Column              Non-Null Count   Dtype  \n",
      "---  ------              --------------   -----  \n",
      " 0   musteri             932144 non-null  object \n",
      " 1   sektor              932144 non-null  object \n",
      " 2   islem_adedi         932144 non-null  int64  \n",
      " 3   aylik_toplam_tutar  932144 non-null  float64\n",
      " 4   tarih               932144 non-null  int64  \n",
      "dtypes: float64(1), int64(2), object(2)\n",
      "memory usage: 35.6+ MB\n"
     ]
    }
   ],
   "source": [
    "mon_df.info()"
   ]
  },
  {
   "cell_type": "code",
   "execution_count": 10,
   "id": "ae7fa3a1-5e5c-4a5f-b200-8cde088d2b6f",
   "metadata": {},
   "outputs": [],
   "source": [
    "yeni_df = mon_df.pivot_table(index=\"musteri\", columns=[\"sektor\", \"tarih\"], values=[\"islem_adedi\", \"aylik_toplam_tutar\"]).fillna(0)"
   ]
  },
  {
   "cell_type": "code",
   "execution_count": 23,
   "id": "fbcc3c7b-77b9-4935-9718-dfae8d75bc95",
   "metadata": {},
   "outputs": [
    {
     "data": {
      "text/html": [
       "<div>\n",
       "<style scoped>\n",
       "    .dataframe tbody tr th:only-of-type {\n",
       "        vertical-align: middle;\n",
       "    }\n",
       "\n",
       "    .dataframe tbody tr th {\n",
       "        vertical-align: top;\n",
       "    }\n",
       "\n",
       "    .dataframe thead tr th {\n",
       "        text-align: left;\n",
       "    }\n",
       "\n",
       "    .dataframe thead tr:last-of-type th {\n",
       "        text-align: right;\n",
       "    }\n",
       "</style>\n",
       "<table border=\"1\" class=\"dataframe\">\n",
       "  <thead>\n",
       "    <tr>\n",
       "      <th></th>\n",
       "      <th colspan=\"10\" halign=\"left\">aylik_toplam_tutar</th>\n",
       "      <th>...</th>\n",
       "      <th colspan=\"10\" halign=\"left\">islem_adedi</th>\n",
       "    </tr>\n",
       "    <tr>\n",
       "      <th>sektor</th>\n",
       "      <th colspan=\"6\" halign=\"left\">BAHCE_CICEKCLK</th>\n",
       "      <th colspan=\"4\" halign=\"left\">BENZIN_YAKIT</th>\n",
       "      <th>...</th>\n",
       "      <th colspan=\"4\" halign=\"left\">TASIMACILIK</th>\n",
       "      <th colspan=\"6\" halign=\"left\">TURIZM_KONAKLM</th>\n",
       "    </tr>\n",
       "    <tr>\n",
       "      <th>tarih</th>\n",
       "      <th>20190101</th>\n",
       "      <th>20190201</th>\n",
       "      <th>20190301</th>\n",
       "      <th>20190401</th>\n",
       "      <th>20190501</th>\n",
       "      <th>20190601</th>\n",
       "      <th>20190101</th>\n",
       "      <th>20190201</th>\n",
       "      <th>20190301</th>\n",
       "      <th>20190401</th>\n",
       "      <th>...</th>\n",
       "      <th>20190301</th>\n",
       "      <th>20190401</th>\n",
       "      <th>20190501</th>\n",
       "      <th>20190601</th>\n",
       "      <th>20190101</th>\n",
       "      <th>20190201</th>\n",
       "      <th>20190301</th>\n",
       "      <th>20190401</th>\n",
       "      <th>20190501</th>\n",
       "      <th>20190601</th>\n",
       "    </tr>\n",
       "    <tr>\n",
       "      <th>musteri</th>\n",
       "      <th></th>\n",
       "      <th></th>\n",
       "      <th></th>\n",
       "      <th></th>\n",
       "      <th></th>\n",
       "      <th></th>\n",
       "      <th></th>\n",
       "      <th></th>\n",
       "      <th></th>\n",
       "      <th></th>\n",
       "      <th></th>\n",
       "      <th></th>\n",
       "      <th></th>\n",
       "      <th></th>\n",
       "      <th></th>\n",
       "      <th></th>\n",
       "      <th></th>\n",
       "      <th></th>\n",
       "      <th></th>\n",
       "      <th></th>\n",
       "      <th></th>\n",
       "    </tr>\n",
       "  </thead>\n",
       "  <tbody>\n",
       "    <tr>\n",
       "      <th>00010d061a</th>\n",
       "      <td>0.0</td>\n",
       "      <td>0.0</td>\n",
       "      <td>0.0</td>\n",
       "      <td>0.0</td>\n",
       "      <td>0.0</td>\n",
       "      <td>0.0</td>\n",
       "      <td>0.0</td>\n",
       "      <td>0.0</td>\n",
       "      <td>0.0</td>\n",
       "      <td>0.0</td>\n",
       "      <td>...</td>\n",
       "      <td>0.0</td>\n",
       "      <td>0.0</td>\n",
       "      <td>0.0</td>\n",
       "      <td>0.0</td>\n",
       "      <td>3.0</td>\n",
       "      <td>0.0</td>\n",
       "      <td>0.0</td>\n",
       "      <td>0.0</td>\n",
       "      <td>0.0</td>\n",
       "      <td>0.0</td>\n",
       "    </tr>\n",
       "    <tr>\n",
       "      <th>000142d604</th>\n",
       "      <td>0.0</td>\n",
       "      <td>0.0</td>\n",
       "      <td>0.0</td>\n",
       "      <td>0.0</td>\n",
       "      <td>0.0</td>\n",
       "      <td>0.0</td>\n",
       "      <td>210.0</td>\n",
       "      <td>60.0</td>\n",
       "      <td>0.0</td>\n",
       "      <td>0.0</td>\n",
       "      <td>...</td>\n",
       "      <td>1.0</td>\n",
       "      <td>0.0</td>\n",
       "      <td>0.0</td>\n",
       "      <td>0.0</td>\n",
       "      <td>0.0</td>\n",
       "      <td>0.0</td>\n",
       "      <td>0.0</td>\n",
       "      <td>0.0</td>\n",
       "      <td>0.0</td>\n",
       "      <td>0.0</td>\n",
       "    </tr>\n",
       "    <tr>\n",
       "      <th>0001791170</th>\n",
       "      <td>0.0</td>\n",
       "      <td>0.0</td>\n",
       "      <td>0.0</td>\n",
       "      <td>0.0</td>\n",
       "      <td>0.0</td>\n",
       "      <td>0.0</td>\n",
       "      <td>130.0</td>\n",
       "      <td>0.0</td>\n",
       "      <td>1010.0</td>\n",
       "      <td>200.0</td>\n",
       "      <td>...</td>\n",
       "      <td>0.0</td>\n",
       "      <td>0.0</td>\n",
       "      <td>0.0</td>\n",
       "      <td>0.0</td>\n",
       "      <td>0.0</td>\n",
       "      <td>0.0</td>\n",
       "      <td>0.0</td>\n",
       "      <td>0.0</td>\n",
       "      <td>0.0</td>\n",
       "      <td>0.0</td>\n",
       "    </tr>\n",
       "    <tr>\n",
       "      <th>00022af007</th>\n",
       "      <td>0.0</td>\n",
       "      <td>0.0</td>\n",
       "      <td>0.0</td>\n",
       "      <td>0.0</td>\n",
       "      <td>0.0</td>\n",
       "      <td>0.0</td>\n",
       "      <td>0.0</td>\n",
       "      <td>0.0</td>\n",
       "      <td>0.0</td>\n",
       "      <td>0.0</td>\n",
       "      <td>...</td>\n",
       "      <td>0.0</td>\n",
       "      <td>0.0</td>\n",
       "      <td>0.0</td>\n",
       "      <td>0.0</td>\n",
       "      <td>0.0</td>\n",
       "      <td>0.0</td>\n",
       "      <td>0.0</td>\n",
       "      <td>0.0</td>\n",
       "      <td>0.0</td>\n",
       "      <td>0.0</td>\n",
       "    </tr>\n",
       "    <tr>\n",
       "      <th>000239a138</th>\n",
       "      <td>0.0</td>\n",
       "      <td>0.0</td>\n",
       "      <td>0.0</td>\n",
       "      <td>0.0</td>\n",
       "      <td>0.0</td>\n",
       "      <td>0.0</td>\n",
       "      <td>0.0</td>\n",
       "      <td>0.0</td>\n",
       "      <td>0.0</td>\n",
       "      <td>0.0</td>\n",
       "      <td>...</td>\n",
       "      <td>0.0</td>\n",
       "      <td>0.0</td>\n",
       "      <td>0.0</td>\n",
       "      <td>0.0</td>\n",
       "      <td>0.0</td>\n",
       "      <td>0.0</td>\n",
       "      <td>0.0</td>\n",
       "      <td>0.0</td>\n",
       "      <td>0.0</td>\n",
       "      <td>0.0</td>\n",
       "    </tr>\n",
       "  </tbody>\n",
       "</table>\n",
       "<p>5 rows × 156 columns</p>\n",
       "</div>"
      ],
      "text/plain": [
       "           aylik_toplam_tutar                                               \\\n",
       "sektor         BAHCE_CICEKCLK                                                \n",
       "tarih                20190101 20190201 20190301 20190401 20190501 20190601   \n",
       "musteri                                                                      \n",
       "00010d061a                0.0      0.0      0.0      0.0      0.0      0.0   \n",
       "000142d604                0.0      0.0      0.0      0.0      0.0      0.0   \n",
       "0001791170                0.0      0.0      0.0      0.0      0.0      0.0   \n",
       "00022af007                0.0      0.0      0.0      0.0      0.0      0.0   \n",
       "000239a138                0.0      0.0      0.0      0.0      0.0      0.0   \n",
       "\n",
       "                                                    ... islem_adedi           \\\n",
       "sektor     BENZIN_YAKIT                             ... TASIMACILIK            \n",
       "tarih          20190101 20190201 20190301 20190401  ...    20190301 20190401   \n",
       "musteri                                             ...                        \n",
       "00010d061a          0.0      0.0      0.0      0.0  ...         0.0      0.0   \n",
       "000142d604        210.0     60.0      0.0      0.0  ...         1.0      0.0   \n",
       "0001791170        130.0      0.0   1010.0    200.0  ...         0.0      0.0   \n",
       "00022af007          0.0      0.0      0.0      0.0  ...         0.0      0.0   \n",
       "000239a138          0.0      0.0      0.0      0.0  ...         0.0      0.0   \n",
       "\n",
       "                                                                        \\\n",
       "sektor                       TURIZM_KONAKLM                              \n",
       "tarih      20190501 20190601       20190101 20190201 20190301 20190401   \n",
       "musteri                                                                  \n",
       "00010d061a      0.0      0.0            3.0      0.0      0.0      0.0   \n",
       "000142d604      0.0      0.0            0.0      0.0      0.0      0.0   \n",
       "0001791170      0.0      0.0            0.0      0.0      0.0      0.0   \n",
       "00022af007      0.0      0.0            0.0      0.0      0.0      0.0   \n",
       "000239a138      0.0      0.0            0.0      0.0      0.0      0.0   \n",
       "\n",
       "                              \n",
       "sektor                        \n",
       "tarih      20190501 20190601  \n",
       "musteri                       \n",
       "00010d061a      0.0      0.0  \n",
       "000142d604      0.0      0.0  \n",
       "0001791170      0.0      0.0  \n",
       "00022af007      0.0      0.0  \n",
       "000239a138      0.0      0.0  \n",
       "\n",
       "[5 rows x 156 columns]"
      ]
     },
     "execution_count": 23,
     "metadata": {},
     "output_type": "execute_result"
    }
   ],
   "source": [
    "yeni_df.head()"
   ]
  },
  {
   "cell_type": "code",
   "execution_count": 35,
   "id": "d571b6d5-8d41-4439-8be5-a4b645a9e181",
   "metadata": {},
   "outputs": [
    {
     "name": "stdout",
     "output_type": "stream",
     "text": [
      "Missing Values : \n"
     ]
    },
    {
     "data": {
      "text/plain": [
       "musteri             0\n",
       "yas                 0\n",
       "kidem_suresi        0\n",
       "egitim            303\n",
       "is_durumu          71\n",
       "meslek_grubu    21330\n",
       "tarih               0\n",
       "target              0\n",
       "dtype: int64"
      ]
     },
     "execution_count": 35,
     "metadata": {},
     "output_type": "execute_result"
    }
   ],
   "source": [
    "print('Missing Values : ')\n",
    "df.isna().sum()"
   ]
  },
  {
   "cell_type": "code",
   "execution_count": 36,
   "id": "ce0658ae-2345-458d-beb8-22a740b66c63",
   "metadata": {},
   "outputs": [
    {
     "data": {
      "text/plain": [
       "d36d84f51a    12942\n",
       "915be3a7a4     3020\n",
       "51be29729b     2608\n",
       "eb35a5eb6b     1563\n",
       "289777e76d      791\n",
       "991c4998fb      201\n",
       "b026b8ee68       57\n",
       "ba7b390fc4       37\n",
       "242927d0f5       28\n",
       "f1fcd26d00        7\n",
       "83a26fc2fd        4\n",
       "a996720382        1\n",
       "Name: is_durumu, dtype: int64"
      ]
     },
     "execution_count": 36,
     "metadata": {},
     "output_type": "execute_result"
    }
   ],
   "source": [
    "df.iloc[:,4:6][df.iloc[:,4:6][\"meslek_grubu\"].isna()][\"is_durumu\"].value_counts()  # hangi is durumu icin kac tane nan var"
   ]
  },
  {
   "cell_type": "code",
   "execution_count": null,
   "id": "4966d25e-e6d0-4acb-99f1-f00eb4447ddd",
   "metadata": {},
   "outputs": [],
   "source": []
  },
  {
   "cell_type": "markdown",
   "id": "20e58cfb-b1f9-4ffe-9ed1-0bfdfb59a9bb",
   "metadata": {},
   "source": [
    "# Visualization"
   ]
  },
  {
   "cell_type": "code",
   "execution_count": 32,
   "id": "cc0ab6de-722f-4dc8-85da-b2a561c88cbf",
   "metadata": {},
   "outputs": [
    {
     "data": {
      "image/png": "[encoded data removed]",
      "text/plain": [
       "<Figure size 800x200 with 1 Axes>"
      ]
     },
     "metadata": {
      "needs_background": "light"
     },
     "output_type": "display_data"
    }
   ],
   "source": [
    "def visualize_target(df):\n",
    "    \n",
    "    fig, ax = plt.subplots(figsize=(8, 2), dpi=100)\n",
    "\n",
    "    sns.barplot(\n",
    "        x=df['target'].value_counts().index,\n",
    "        y=df['target'].value_counts().values,\n",
    "        ax=ax\n",
    "    )\n",
    "\n",
    "    ax.set_xlabel('')\n",
    "    ax.set_ylabel('')\n",
    "    ax.set_xticklabels([f'{x} ({value_count:,})' for value_count, x in zip(df['target'].value_counts().values, df['target'].value_counts().index)])\n",
    "    ax.tick_params(axis='x', labelsize=8, pad=5)\n",
    "    ax.tick_params(axis='y', labelsize=8, pad=5)\n",
    "    ax.set_title('Target Counts', size=10, pad=8)\n",
    "\n",
    "    plt.show()\n",
    "\n",
    "\n",
    "visualize_target(df)"
   ]
  },
  {
   "cell_type": "code",
   "execution_count": 33,
   "id": "cce5ebbc-cff8-43e5-bf04-a3627d2006dc",
   "metadata": {},
   "outputs": [
    {
     "data": {
      "text/html": [
       "<div>\n",
       "<style scoped>\n",
       "    .dataframe tbody tr th:only-of-type {\n",
       "        vertical-align: middle;\n",
       "    }\n",
       "\n",
       "    .dataframe tbody tr th {\n",
       "        vertical-align: top;\n",
       "    }\n",
       "\n",
       "    .dataframe thead th {\n",
       "        text-align: right;\n",
       "    }\n",
       "</style>\n",
       "<table border=\"1\" class=\"dataframe\">\n",
       "  <thead>\n",
       "    <tr style=\"text-align: right;\">\n",
       "      <th></th>\n",
       "      <th>musteri</th>\n",
       "      <th>yas</th>\n",
       "      <th>kidem_suresi</th>\n",
       "      <th>egitim</th>\n",
       "      <th>is_durumu</th>\n",
       "      <th>meslek_grubu</th>\n",
       "      <th>tarih</th>\n",
       "      <th>target</th>\n",
       "    </tr>\n",
       "  </thead>\n",
       "  <tbody>\n",
       "    <tr>\n",
       "      <th>0</th>\n",
       "      <td>23b2476c8a</td>\n",
       "      <td>44.0</td>\n",
       "      <td>46.0</td>\n",
       "      <td>5f8ca0f83b</td>\n",
       "      <td>915be3a7a4</td>\n",
       "      <td>44af6626d6</td>\n",
       "      <td>20190601</td>\n",
       "      <td>0</td>\n",
       "    </tr>\n",
       "    <tr>\n",
       "      <th>1</th>\n",
       "      <td>5a7e3a7122</td>\n",
       "      <td>39.0</td>\n",
       "      <td>194.0</td>\n",
       "      <td>01a4f2c96c</td>\n",
       "      <td>915be3a7a4</td>\n",
       "      <td>44af6626d6</td>\n",
       "      <td>20190601</td>\n",
       "      <td>0</td>\n",
       "    </tr>\n",
       "    <tr>\n",
       "      <th>2</th>\n",
       "      <td>2ec95c7499</td>\n",
       "      <td>38.0</td>\n",
       "      <td>182.0</td>\n",
       "      <td>7e6640bfe0</td>\n",
       "      <td>d36d84f51a</td>\n",
       "      <td>44af6626d6</td>\n",
       "      <td>20190601</td>\n",
       "      <td>0</td>\n",
       "    </tr>\n",
       "    <tr>\n",
       "      <th>3</th>\n",
       "      <td>54399dac33</td>\n",
       "      <td>34.0</td>\n",
       "      <td>101.0</td>\n",
       "      <td>5f8ca0f83b</td>\n",
       "      <td>991c4998fb</td>\n",
       "      <td>44af6626d6</td>\n",
       "      <td>20190601</td>\n",
       "      <td>0</td>\n",
       "    </tr>\n",
       "    <tr>\n",
       "      <th>4</th>\n",
       "      <td>97a74b2e58</td>\n",
       "      <td>41.0</td>\n",
       "      <td>125.0</td>\n",
       "      <td>7bb291e291</td>\n",
       "      <td>242927d0f5</td>\n",
       "      <td>91ed9c1e18</td>\n",
       "      <td>20190601</td>\n",
       "      <td>0</td>\n",
       "    </tr>\n",
       "    <tr>\n",
       "      <th>...</th>\n",
       "      <td>...</td>\n",
       "      <td>...</td>\n",
       "      <td>...</td>\n",
       "      <td>...</td>\n",
       "      <td>...</td>\n",
       "      <td>...</td>\n",
       "      <td>...</td>\n",
       "      <td>...</td>\n",
       "    </tr>\n",
       "    <tr>\n",
       "      <th>59995</th>\n",
       "      <td>b51ec62cf3</td>\n",
       "      <td>20.0</td>\n",
       "      <td>24.0</td>\n",
       "      <td>5f8ca0f83b</td>\n",
       "      <td>51be29729b</td>\n",
       "      <td>NaN</td>\n",
       "      <td>20190601</td>\n",
       "      <td>0</td>\n",
       "    </tr>\n",
       "    <tr>\n",
       "      <th>59996</th>\n",
       "      <td>6dc2be5b51</td>\n",
       "      <td>22.0</td>\n",
       "      <td>56.0</td>\n",
       "      <td>7e6640bfe0</td>\n",
       "      <td>d36d84f51a</td>\n",
       "      <td>NaN</td>\n",
       "      <td>20190601</td>\n",
       "      <td>0</td>\n",
       "    </tr>\n",
       "    <tr>\n",
       "      <th>59997</th>\n",
       "      <td>a5e7b7632c</td>\n",
       "      <td>41.0</td>\n",
       "      <td>188.0</td>\n",
       "      <td>7e6640bfe0</td>\n",
       "      <td>ba7b390fc4</td>\n",
       "      <td>bfd9cb6270</td>\n",
       "      <td>20190601</td>\n",
       "      <td>0</td>\n",
       "    </tr>\n",
       "    <tr>\n",
       "      <th>59998</th>\n",
       "      <td>f79e555824</td>\n",
       "      <td>31.0</td>\n",
       "      <td>143.0</td>\n",
       "      <td>7e6640bfe0</td>\n",
       "      <td>991c4998fb</td>\n",
       "      <td>314826bda8</td>\n",
       "      <td>20190601</td>\n",
       "      <td>0</td>\n",
       "    </tr>\n",
       "    <tr>\n",
       "      <th>59999</th>\n",
       "      <td>668f670f1b</td>\n",
       "      <td>39.0</td>\n",
       "      <td>252.0</td>\n",
       "      <td>7e6640bfe0</td>\n",
       "      <td>ba7b390fc4</td>\n",
       "      <td>9034d4c83c</td>\n",
       "      <td>20190601</td>\n",
       "      <td>0</td>\n",
       "    </tr>\n",
       "  </tbody>\n",
       "</table>\n",
       "<p>60000 rows × 8 columns</p>\n",
       "</div>"
      ],
      "text/plain": [
       "          musteri   yas  kidem_suresi      egitim   is_durumu meslek_grubu  \\\n",
       "0      23b2476c8a  44.0          46.0  5f8ca0f83b  915be3a7a4   44af6626d6   \n",
       "1      5a7e3a7122  39.0         194.0  01a4f2c96c  915be3a7a4   44af6626d6   \n",
       "2      2ec95c7499  38.0         182.0  7e6640bfe0  d36d84f51a   44af6626d6   \n",
       "3      54399dac33  34.0         101.0  5f8ca0f83b  991c4998fb   44af6626d6   \n",
       "4      97a74b2e58  41.0         125.0  7bb291e291  242927d0f5   91ed9c1e18   \n",
       "...           ...   ...           ...         ...         ...          ...   \n",
       "59995  b51ec62cf3  20.0          24.0  5f8ca0f83b  51be29729b          NaN   \n",
       "59996  6dc2be5b51  22.0          56.0  7e6640bfe0  d36d84f51a          NaN   \n",
       "59997  a5e7b7632c  41.0         188.0  7e6640bfe0  ba7b390fc4   bfd9cb6270   \n",
       "59998  f79e555824  31.0         143.0  7e6640bfe0  991c4998fb   314826bda8   \n",
       "59999  668f670f1b  39.0         252.0  7e6640bfe0  ba7b390fc4   9034d4c83c   \n",
       "\n",
       "          tarih  target  \n",
       "0      20190601       0  \n",
       "1      20190601       0  \n",
       "2      20190601       0  \n",
       "3      20190601       0  \n",
       "4      20190601       0  \n",
       "...         ...     ...  \n",
       "59995  20190601       0  \n",
       "59996  20190601       0  \n",
       "59997  20190601       0  \n",
       "59998  20190601       0  \n",
       "59999  20190601       0  \n",
       "\n",
       "[60000 rows x 8 columns]"
      ]
     },
     "execution_count": 33,
     "metadata": {},
     "output_type": "execute_result"
    }
   ],
   "source": [
    "df"
   ]
  },
  {
   "cell_type": "code",
   "execution_count": 37,
   "id": "fe0806e4-c531-4d71-839e-09273d64ce49",
   "metadata": {},
   "outputs": [],
   "source": [
    "continuous_columns = ['yas', 'kidem_suresi']\n",
    "discreated_columns = ['egitim', 'is_durumu', 'meslek_grubu']"
   ]
  },
  {
   "cell_type": "code",
   "execution_count": 44,
   "id": "e64114b6-b7fe-4f48-b9cb-2c4080b38d8f",
   "metadata": {},
   "outputs": [
    {
     "name": "stdout",
     "output_type": "stream",
     "text": [
      "Column : yas\n",
      "Mean: 27.3308  -  Median: 25.0000  -  Std: 7.1088\n"
     ]
    },
    {
     "data": {
      "image/png": "[encoded data removed]",
      "text/plain": [
       "<Figure size 800x200 with 1 Axes>"
      ]
     },
     "metadata": {
      "needs_background": "light"
     },
     "output_type": "display_data"
    },
    {
     "name": "stdout",
     "output_type": "stream",
     "text": [
      "\n",
      "Column : kidem_suresi\n",
      "Mean: 78.5737  -  Median: 61.0000  -  Std: 64.1243\n"
     ]
    },
    {
     "data": {
      "image/png": "[encoded data removed]",
      "text/plain": [
       "<Figure size 800x200 with 1 Axes>"
      ]
     },
     "metadata": {
      "needs_background": "light"
     },
     "output_type": "display_data"
    },
    {
     "name": "stdout",
     "output_type": "stream",
     "text": [
      "\n"
     ]
    }
   ],
   "source": [
    "def visualize_continuous_columns(df, columns):\n",
    "    \n",
    "    for column in columns:\n",
    "        print(f'Column : {column}')\n",
    "        print(f'Mean: {df[column].mean():.4f}  -  Median: {df[column].median():.4f}  -  Std: {df[column].std():.4f}')\n",
    "        \n",
    "        fig, ax = plt.subplots(figsize=(8, 2), dpi=100)\n",
    "        \n",
    "        sns.kdeplot(df.loc[df['target'] == 0, column], label='Negative', fill=True)\n",
    "        sns.kdeplot(df.loc[df['target'] == 1, column], label='Positive', fill=True)\n",
    "        \n",
    "        plt.show()\n",
    "        print()\n",
    "\n",
    "visualize_continuous_columns(df, continuous_columns)"
   ]
  },
  {
   "cell_type": "code",
   "execution_count": 51,
   "id": "3b67eb65-6e03-409d-baa8-5c1ecccd36f0",
   "metadata": {},
   "outputs": [
    {
     "name": "stdout",
     "output_type": "stream",
     "text": [
      "Column : egitim\n"
     ]
    },
    {
     "data": {
      "image/png": "[encoded data removed]",
      "text/plain": [
       "<Figure size 1600x600 with 1 Axes>"
      ]
     },
     "metadata": {
      "needs_background": "light"
     },
     "output_type": "display_data"
    },
    {
     "name": "stdout",
     "output_type": "stream",
     "text": [
      "\n",
      "Column : is_durumu\n"
     ]
    },
    {
     "data": {
      "image/png": "[encoded data removed]",
      "text/plain": [
       "<Figure size 1600x600 with 1 Axes>"
      ]
     },
     "metadata": {
      "needs_background": "light"
     },
     "output_type": "display_data"
    },
    {
     "name": "stdout",
     "output_type": "stream",
     "text": [
      "\n",
      "Column : meslek_grubu\n"
     ]
    },
    {
     "data": {
      "image/png": "[encoded data removed]",
      "text/plain": [
       "<Figure size 1600x600 with 1 Axes>"
      ]
     },
     "metadata": {
      "needs_background": "light"
     },
     "output_type": "display_data"
    },
    {
     "name": "stdout",
     "output_type": "stream",
     "text": [
      "\n"
     ]
    }
   ],
   "source": [
    "def visualize_discreated_columns(df, columns):\n",
    "    \n",
    "    for column in columns:\n",
    "        print(f'Column : {column}')\n",
    "        \n",
    "        fig, ax = plt.subplots(figsize=(16, 6), dpi=100)\n",
    "        \n",
    "        sns.barplot(x=df[column].value_counts().index, y=df[column].value_counts())\n",
    "        \n",
    "        plt.show()\n",
    "        print()\n",
    "\n",
    "visualize_discreated_columns(df, discreated_columns)"
   ]
  },
  {
   "cell_type": "code",
   "execution_count": 53,
   "id": "9992f2e3-ad6c-4992-b935-befbbb0b6f09",
   "metadata": {},
   "outputs": [
    {
     "data": {
      "text/plain": [
       "44af6626d6    27401\n",
       "314826bda8     2451\n",
       "91ed9c1e18     1574\n",
       "ba91c4a92b     1518\n",
       "bfd9cb6270     1069\n",
       "Name: meslek_grubu, dtype: int64"
      ]
     },
     "execution_count": 53,
     "metadata": {},
     "output_type": "execute_result"
    }
   ],
   "source": [
    "df['meslek_grubu'].value_counts()[:5]"
   ]
  },
  {
   "cell_type": "code",
   "execution_count": 74,
   "id": "ea069a48-3fa5-4720-a89f-c78c9a4db99c",
   "metadata": {},
   "outputs": [
    {
     "data": {
      "image/png": "[encoded data removed]",
      "text/plain": [
       "<Figure size 600x600 with 2 Axes>"
      ]
     },
     "metadata": {
      "needs_background": "light"
     },
     "output_type": "display_data"
    }
   ],
   "source": [
    "def visualize_correlations(df, columns):\n",
    "\n",
    "    fig = plt.figure(figsize=(6, 6), dpi=100)\n",
    "    sns.heatmap(\n",
    "        df[columns].corr(),\n",
    "        annot=True,\n",
    "        square=True,\n",
    "        cmap='coolwarm',\n",
    "        annot_kws={'size': 8},\n",
    "        fmt='.2f'\n",
    "    )\n",
    "\n",
    "    plt.tick_params(axis='x', labelsize=8, rotation=90)\n",
    "    plt.tick_params(axis='y', labelsize=8, rotation=0)\n",
    "    plt.title('Correlations', size=7, pad=7)\n",
    "\n",
    "    plt.show()\n",
    "\n",
    "\n",
    "visualize_correlations(df, ['yas', 'kidem_suresi', 'target'])"
   ]
  },
  {
   "cell_type": "code",
   "execution_count": null,
   "id": "12cbd982-f7ce-48c7-b7a7-d1f352644108",
   "metadata": {},
   "outputs": [],
   "source": []
  }
 ],
 "metadata": {
  "kernelspec": {
   "display_name": "Python 3 (ipykernel)",
   "language": "python",
   "name": "python3"
  },
  "language_info": {
   "codemirror_mode": {
    "name": "ipython",
    "version": 3
   },
   "file_extension": ".py",
   "mimetype": "text/x-python",
   "name": "python",
   "nbconvert_exporter": "python",
   "pygments_lexer": "ipython3",
   "version": "3.8.13"
  }
 },
 "nbformat": 4,
 "nbformat_minor": 5
}
